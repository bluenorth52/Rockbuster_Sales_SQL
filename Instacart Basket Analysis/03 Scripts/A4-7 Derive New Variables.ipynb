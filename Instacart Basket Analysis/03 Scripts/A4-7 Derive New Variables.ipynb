{
 "cells": [
  {
   "cell_type": "markdown",
   "id": "75490988",
   "metadata": {},
   "source": [
    "# Import Libraries"
   ]
  },
  {
   "cell_type": "code",
   "execution_count": 1,
   "id": "76a9e28f",
   "metadata": {},
   "outputs": [],
   "source": [
    "import pandas as pd\n",
    "import numpy as np\n",
    "import os\n",
    "# import appropriate libraries"
   ]
  },
  {
   "cell_type": "code",
   "execution_count": 2,
   "id": "d854ca1d",
   "metadata": {},
   "outputs": [],
   "source": [
    "df_ords_prods_merge = pd.read_pickle(r'C:\\Users\\boudl\\Instacart Basket Analysis\\02 Data\\Prepared Data\\orders_products_final.pkl')"
   ]
  },
  {
   "cell_type": "markdown",
   "id": "15db7b6f",
   "metadata": {},
   "source": [
    "# Data Study"
   ]
  },
  {
   "cell_type": "code",
   "execution_count": 3,
   "id": "1ff0ad09",
   "metadata": {},
   "outputs": [
    {
     "data": {
      "text/html": [
       "<div>\n",
       "<style scoped>\n",
       "    .dataframe tbody tr th:only-of-type {\n",
       "        vertical-align: middle;\n",
       "    }\n",
       "\n",
       "    .dataframe tbody tr th {\n",
       "        vertical-align: top;\n",
       "    }\n",
       "\n",
       "    .dataframe thead th {\n",
       "        text-align: right;\n",
       "    }\n",
       "</style>\n",
       "<table border=\"1\" class=\"dataframe\">\n",
       "  <thead>\n",
       "    <tr style=\"text-align: right;\">\n",
       "      <th></th>\n",
       "      <th>order_id</th>\n",
       "      <th>user_id</th>\n",
       "      <th>order_number</th>\n",
       "      <th>day_of_week</th>\n",
       "      <th>order_hour_of_day</th>\n",
       "      <th>days_since_prior_order</th>\n",
       "      <th>first_order_flag</th>\n",
       "      <th>product_id</th>\n",
       "      <th>add_to_cart_order</th>\n",
       "      <th>reordered</th>\n",
       "      <th>_merge</th>\n",
       "    </tr>\n",
       "  </thead>\n",
       "  <tbody>\n",
       "    <tr>\n",
       "      <th>0</th>\n",
       "      <td>2539329</td>\n",
       "      <td>1</td>\n",
       "      <td>1</td>\n",
       "      <td>2</td>\n",
       "      <td>8</td>\n",
       "      <td>NaN</td>\n",
       "      <td>True</td>\n",
       "      <td>196.0</td>\n",
       "      <td>1.0</td>\n",
       "      <td>0.0</td>\n",
       "      <td>both</td>\n",
       "    </tr>\n",
       "    <tr>\n",
       "      <th>1</th>\n",
       "      <td>2539329</td>\n",
       "      <td>1</td>\n",
       "      <td>1</td>\n",
       "      <td>2</td>\n",
       "      <td>8</td>\n",
       "      <td>NaN</td>\n",
       "      <td>True</td>\n",
       "      <td>14084.0</td>\n",
       "      <td>2.0</td>\n",
       "      <td>0.0</td>\n",
       "      <td>both</td>\n",
       "    </tr>\n",
       "    <tr>\n",
       "      <th>2</th>\n",
       "      <td>2539329</td>\n",
       "      <td>1</td>\n",
       "      <td>1</td>\n",
       "      <td>2</td>\n",
       "      <td>8</td>\n",
       "      <td>NaN</td>\n",
       "      <td>True</td>\n",
       "      <td>12427.0</td>\n",
       "      <td>3.0</td>\n",
       "      <td>0.0</td>\n",
       "      <td>both</td>\n",
       "    </tr>\n",
       "    <tr>\n",
       "      <th>3</th>\n",
       "      <td>2539329</td>\n",
       "      <td>1</td>\n",
       "      <td>1</td>\n",
       "      <td>2</td>\n",
       "      <td>8</td>\n",
       "      <td>NaN</td>\n",
       "      <td>True</td>\n",
       "      <td>26088.0</td>\n",
       "      <td>4.0</td>\n",
       "      <td>0.0</td>\n",
       "      <td>both</td>\n",
       "    </tr>\n",
       "    <tr>\n",
       "      <th>4</th>\n",
       "      <td>2539329</td>\n",
       "      <td>1</td>\n",
       "      <td>1</td>\n",
       "      <td>2</td>\n",
       "      <td>8</td>\n",
       "      <td>NaN</td>\n",
       "      <td>True</td>\n",
       "      <td>26405.0</td>\n",
       "      <td>5.0</td>\n",
       "      <td>0.0</td>\n",
       "      <td>both</td>\n",
       "    </tr>\n",
       "  </tbody>\n",
       "</table>\n",
       "</div>"
      ],
      "text/plain": [
       "   order_id  user_id  order_number  day_of_week  order_hour_of_day  \\\n",
       "0   2539329        1             1            2                  8   \n",
       "1   2539329        1             1            2                  8   \n",
       "2   2539329        1             1            2                  8   \n",
       "3   2539329        1             1            2                  8   \n",
       "4   2539329        1             1            2                  8   \n",
       "\n",
       "   days_since_prior_order  first_order_flag  product_id  add_to_cart_order  \\\n",
       "0                     NaN              True       196.0                1.0   \n",
       "1                     NaN              True     14084.0                2.0   \n",
       "2                     NaN              True     12427.0                3.0   \n",
       "3                     NaN              True     26088.0                4.0   \n",
       "4                     NaN              True     26405.0                5.0   \n",
       "\n",
       "   reordered _merge  \n",
       "0        0.0   both  \n",
       "1        0.0   both  \n",
       "2        0.0   both  \n",
       "3        0.0   both  \n",
       "4        0.0   both  "
      ]
     },
     "execution_count": 3,
     "metadata": {},
     "output_type": "execute_result"
    }
   ],
   "source": [
    "df_ords_prods_merge.head()"
   ]
  },
  {
   "cell_type": "code",
   "execution_count": 4,
   "id": "fa4fe361",
   "metadata": {},
   "outputs": [
    {
     "name": "stdout",
     "output_type": "stream",
     "text": [
      "<class 'pandas.core.frame.DataFrame'>\n",
      "RangeIndex: 32640698 entries, 0 to 32640697\n",
      "Data columns (total 11 columns):\n",
      " #   Column                  Dtype   \n",
      "---  ------                  -----   \n",
      " 0   order_id                int64   \n",
      " 1   user_id                 int64   \n",
      " 2   order_number            int64   \n",
      " 3   day_of_week             int64   \n",
      " 4   order_hour_of_day       int64   \n",
      " 5   days_since_prior_order  float64 \n",
      " 6   first_order_flag        bool    \n",
      " 7   product_id              float64 \n",
      " 8   add_to_cart_order       float64 \n",
      " 9   reordered               float64 \n",
      " 10  _merge                  category\n",
      "dtypes: bool(1), category(1), float64(4), int64(5)\n",
      "memory usage: 2.2 GB\n"
     ]
    }
   ],
   "source": [
    "df_ords_prods_merge.info()"
   ]
  },
  {
   "cell_type": "code",
   "execution_count": 10,
   "id": "92ec91e2",
   "metadata": {},
   "outputs": [],
   "source": [
    "def price_label(price):\n",
    "    if pd.isnull(price):\n",
    "        return 'Not enough data'\n",
    "    elif price <= 5:\n",
    "        return 'Low-range product'\n",
    "    elif price <= 15:\n",
    "        return 'Mid-range product'\n",
    "    else:\n",
    "        return 'High-range product'\n",
    "    \n",
    "# command to create a new row seperating data into named groups"
   ]
  },
  {
   "cell_type": "code",
   "execution_count": 12,
   "id": "ef271e94",
   "metadata": {},
   "outputs": [
    {
     "ename": "KeyError",
     "evalue": "'prices'",
     "output_type": "error",
     "traceback": [
      "\u001b[1;31m---------------------------------------------------------------------------\u001b[0m",
      "\u001b[1;31mKeyError\u001b[0m                                  Traceback (most recent call last)",
      "File \u001b[1;32m~\\anaconda3\\Lib\\site-packages\\pandas\\core\\indexes\\base.py:3790\u001b[0m, in \u001b[0;36mIndex.get_loc\u001b[1;34m(self, key)\u001b[0m\n\u001b[0;32m   3789\u001b[0m \u001b[38;5;28;01mtry\u001b[39;00m:\n\u001b[1;32m-> 3790\u001b[0m     \u001b[38;5;28;01mreturn\u001b[39;00m \u001b[38;5;28mself\u001b[39m\u001b[38;5;241m.\u001b[39m_engine\u001b[38;5;241m.\u001b[39mget_loc(casted_key)\n\u001b[0;32m   3791\u001b[0m \u001b[38;5;28;01mexcept\u001b[39;00m \u001b[38;5;167;01mKeyError\u001b[39;00m \u001b[38;5;28;01mas\u001b[39;00m err:\n",
      "File \u001b[1;32mindex.pyx:152\u001b[0m, in \u001b[0;36mpandas._libs.index.IndexEngine.get_loc\u001b[1;34m()\u001b[0m\n",
      "File \u001b[1;32mindex.pyx:181\u001b[0m, in \u001b[0;36mpandas._libs.index.IndexEngine.get_loc\u001b[1;34m()\u001b[0m\n",
      "File \u001b[1;32mpandas\\_libs\\hashtable_class_helper.pxi:7080\u001b[0m, in \u001b[0;36mpandas._libs.hashtable.PyObjectHashTable.get_item\u001b[1;34m()\u001b[0m\n",
      "File \u001b[1;32mpandas\\_libs\\hashtable_class_helper.pxi:7088\u001b[0m, in \u001b[0;36mpandas._libs.hashtable.PyObjectHashTable.get_item\u001b[1;34m()\u001b[0m\n",
      "\u001b[1;31mKeyError\u001b[0m: 'prices'",
      "\nThe above exception was the direct cause of the following exception:\n",
      "\u001b[1;31mKeyError\u001b[0m                                  Traceback (most recent call last)",
      "Cell \u001b[1;32mIn[12], line 1\u001b[0m\n\u001b[1;32m----> 1\u001b[0m df_ords_prods_merge[\u001b[38;5;124m'\u001b[39m\u001b[38;5;124mprices\u001b[39m\u001b[38;5;124m'\u001b[39m] \u001b[38;5;241m=\u001b[39m df_ords_prods_merge[\u001b[38;5;124m'\u001b[39m\u001b[38;5;124mprices\u001b[39m\u001b[38;5;124m'\u001b[39m]\u001b[38;5;241m.\u001b[39mastype(\u001b[38;5;124m'\u001b[39m\u001b[38;5;124mint8\u001b[39m\u001b[38;5;124m'\u001b[39m)\n",
      "File \u001b[1;32m~\\anaconda3\\Lib\\site-packages\\pandas\\core\\frame.py:3896\u001b[0m, in \u001b[0;36mDataFrame.__getitem__\u001b[1;34m(self, key)\u001b[0m\n\u001b[0;32m   3894\u001b[0m \u001b[38;5;28;01mif\u001b[39;00m \u001b[38;5;28mself\u001b[39m\u001b[38;5;241m.\u001b[39mcolumns\u001b[38;5;241m.\u001b[39mnlevels \u001b[38;5;241m>\u001b[39m \u001b[38;5;241m1\u001b[39m:\n\u001b[0;32m   3895\u001b[0m     \u001b[38;5;28;01mreturn\u001b[39;00m \u001b[38;5;28mself\u001b[39m\u001b[38;5;241m.\u001b[39m_getitem_multilevel(key)\n\u001b[1;32m-> 3896\u001b[0m indexer \u001b[38;5;241m=\u001b[39m \u001b[38;5;28mself\u001b[39m\u001b[38;5;241m.\u001b[39mcolumns\u001b[38;5;241m.\u001b[39mget_loc(key)\n\u001b[0;32m   3897\u001b[0m \u001b[38;5;28;01mif\u001b[39;00m is_integer(indexer):\n\u001b[0;32m   3898\u001b[0m     indexer \u001b[38;5;241m=\u001b[39m [indexer]\n",
      "File \u001b[1;32m~\\anaconda3\\Lib\\site-packages\\pandas\\core\\indexes\\base.py:3797\u001b[0m, in \u001b[0;36mIndex.get_loc\u001b[1;34m(self, key)\u001b[0m\n\u001b[0;32m   3792\u001b[0m     \u001b[38;5;28;01mif\u001b[39;00m \u001b[38;5;28misinstance\u001b[39m(casted_key, \u001b[38;5;28mslice\u001b[39m) \u001b[38;5;129;01mor\u001b[39;00m (\n\u001b[0;32m   3793\u001b[0m         \u001b[38;5;28misinstance\u001b[39m(casted_key, abc\u001b[38;5;241m.\u001b[39mIterable)\n\u001b[0;32m   3794\u001b[0m         \u001b[38;5;129;01mand\u001b[39;00m \u001b[38;5;28many\u001b[39m(\u001b[38;5;28misinstance\u001b[39m(x, \u001b[38;5;28mslice\u001b[39m) \u001b[38;5;28;01mfor\u001b[39;00m x \u001b[38;5;129;01min\u001b[39;00m casted_key)\n\u001b[0;32m   3795\u001b[0m     ):\n\u001b[0;32m   3796\u001b[0m         \u001b[38;5;28;01mraise\u001b[39;00m InvalidIndexError(key)\n\u001b[1;32m-> 3797\u001b[0m     \u001b[38;5;28;01mraise\u001b[39;00m \u001b[38;5;167;01mKeyError\u001b[39;00m(key) \u001b[38;5;28;01mfrom\u001b[39;00m \u001b[38;5;21;01merr\u001b[39;00m\n\u001b[0;32m   3798\u001b[0m \u001b[38;5;28;01mexcept\u001b[39;00m \u001b[38;5;167;01mTypeError\u001b[39;00m:\n\u001b[0;32m   3799\u001b[0m     \u001b[38;5;66;03m# If we have a listlike key, _check_indexing_error will raise\u001b[39;00m\n\u001b[0;32m   3800\u001b[0m     \u001b[38;5;66;03m#  InvalidIndexError. Otherwise we fall through and re-raise\u001b[39;00m\n\u001b[0;32m   3801\u001b[0m     \u001b[38;5;66;03m#  the TypeError.\u001b[39;00m\n\u001b[0;32m   3802\u001b[0m     \u001b[38;5;28mself\u001b[39m\u001b[38;5;241m.\u001b[39m_check_indexing_error(key)\n",
      "\u001b[1;31mKeyError\u001b[0m: 'prices'"
     ]
    }
   ],
   "source": [
    "df_ords_prods_merge['prices'] = df_ords_prods_merge['prices'].astype('int8')\n",
    "# change dtype of dataframe for easier processing"
   ]
  },
  {
   "cell_type": "code",
   "execution_count": null,
   "id": "aa956946",
   "metadata": {},
   "outputs": [],
   "source": [
    "df_ords_prods['price_range'] = df_ords_prods['prices'].apply(price_label)\n",
    "# apply function to dataframe"
   ]
  },
  {
   "cell_type": "code",
   "execution_count": null,
   "id": "d3b1e434",
   "metadata": {},
   "outputs": [],
   "source": [
    "df_ords_prods['price_range'].value_counts(dropna = False)\n",
    "# command to display counts of conditions listed"
   ]
  },
  {
   "cell_type": "markdown",
   "id": "e148d2c3",
   "metadata": {},
   "source": [
    "This search result indicates there are more mid-range (19,739,755) and low-range products (12,302,118) than there are high-range (392,339) products listed in Instacart's database."
   ]
  },
  {
   "cell_type": "code",
   "execution_count": null,
   "id": "3cf7c876",
   "metadata": {},
   "outputs": [],
   "source": [
    "df_ords_prods['prices'].max()\n",
    "# max value in column"
   ]
  },
  {
   "cell_type": "markdown",
   "id": "ab19464f",
   "metadata": {},
   "source": [
    "### Define Prices Using LOC function"
   ]
  },
  {
   "cell_type": "code",
   "execution_count": null,
   "id": "a11399ac",
   "metadata": {},
   "outputs": [],
   "source": [
    "df_ords_prods['price_range'] = 'Not enough data'"
   ]
  },
  {
   "cell_type": "code",
   "execution_count": null,
   "id": "9ae72fc6",
   "metadata": {},
   "outputs": [],
   "source": [
    "df_ords_prods.loc[df_ords_prods['prices'] <= 5, 'price_range'] = 'Low-range product'"
   ]
  },
  {
   "cell_type": "code",
   "execution_count": null,
   "id": "349e17ee",
   "metadata": {},
   "outputs": [],
   "source": [
    "df_ords_prods.loc[(df_ords_prods['prices'] > 5) & (df_ords_prods['prices'] <= 15), 'price_range'] = 'Mid-range product'"
   ]
  },
  {
   "cell_type": "code",
   "execution_count": null,
   "id": "2af18c92",
   "metadata": {},
   "outputs": [],
   "source": [
    "df_ords_prods.loc[df_ords_prods['prices'] > 15, 'price_range'] = 'High range'\n"
   ]
  },
  {
   "cell_type": "code",
   "execution_count": null,
   "id": "7fbd922c",
   "metadata": {},
   "outputs": [],
   "source": [
    "df_ords_prods['prices'] = df_ords_prods['prices'].astype('int8')"
   ]
  },
  {
   "cell_type": "code",
   "execution_count": null,
   "id": "17a23186",
   "metadata": {},
   "outputs": [],
   "source": [
    "df_ords_prods['price_range'].value_counts(dropna = False)\n",
    "# command to display counts of conditions listed"
   ]
  },
  {
   "cell_type": "markdown",
   "id": "edb4147e",
   "metadata": {},
   "source": [
    "## Resume Data Study"
   ]
  },
  {
   "cell_type": "code",
   "execution_count": null,
   "id": "8be58ce7",
   "metadata": {},
   "outputs": [],
   "source": [
    "result = []\n",
    "\n",
    "for value in df_ords_prods[\"day_of_week\"]:\n",
    "  if value == 0:\n",
    "    result.append(\"Busiest day\")\n",
    "  elif value == 4:\n",
    "    result.append(\"Least busy\")\n",
    "  else:\n",
    "    result.append(\"Regularly busy\")\n",
    "    \n",
    "# define the condition"
   ]
  },
  {
   "cell_type": "code",
   "execution_count": null,
   "id": "a8971039",
   "metadata": {},
   "outputs": [],
   "source": [
    "df_ords_prods['busiest_day'] = result\n",
    "# command to define busiest day"
   ]
  },
  {
   "cell_type": "code",
   "execution_count": null,
   "id": "d3bc22aa",
   "metadata": {},
   "outputs": [],
   "source": [
    "df_ords_prods['day_of_week'] = df_ords_prods['day_of_week'].astype('int8')\n",
    "# change dype for easier processing"
   ]
  },
  {
   "cell_type": "code",
   "execution_count": null,
   "id": "c1f5b115",
   "metadata": {},
   "outputs": [],
   "source": [
    "df_ords_prods['busiest_day'].value_counts(dropna = False)\n",
    "# command to display counts of conditions listed"
   ]
  },
  {
   "cell_type": "markdown",
   "id": "6ec1511e",
   "metadata": {},
   "source": [
    "This result suggests that most days of business are regularly busy (22,437,387) while busiest (6,209,632) and least busiest (3,787,193) are less than common."
   ]
  },
  {
   "cell_type": "code",
   "execution_count": null,
   "id": "35de0829",
   "metadata": {},
   "outputs": [],
   "source": [
    "result = []\n",
    "\n",
    "for value in df_ords_prods[\"day_of_week\"]:\n",
    "  if value in [1, 0]:  # busiest days are (1) Monday and (0) Sunday\n",
    "    result.append(\"Busiest days\")\n",
    "  elif value in [3, 4]:  # least busiesy days are (3) Tuesday and (4) Wednesday\n",
    "    result.append(\"Slowest days\")\n",
    "  else:\n",
    "    result.append(\"Regularly busy\")\n",
    "    \n",
    "# define the condition"
   ]
  },
  {
   "cell_type": "code",
   "execution_count": null,
   "id": "5b211607",
   "metadata": {},
   "outputs": [],
   "source": [
    "df_ords_prods['busiest_days'] = result\n",
    "# command to define busiest days"
   ]
  },
  {
   "cell_type": "code",
   "execution_count": null,
   "id": "bde8b119",
   "metadata": {},
   "outputs": [],
   "source": [
    "df_ords_prods['day_of_week'] = df_ords_prods['day_of_week'].astype('int8')\n",
    "# change dype for easier processing"
   ]
  },
  {
   "cell_type": "code",
   "execution_count": null,
   "id": "498aa335",
   "metadata": {},
   "outputs": [],
   "source": [
    "df_ords_prods['busiest_days'].value_counts(dropna = False)\n",
    "# command to display counts of conditions listed"
   ]
  },
  {
   "cell_type": "markdown",
   "id": "7c80d4d4",
   "metadata": {},
   "source": [
    "With this new function looking at only the two busiest and two slowest days, our data balances slighty: regular days are only noted 12,927,461 times with busiest days a close second at 11,875,462 days. Slowest days are still a bit behind with only 7,631,289 days. This strongly suggests that most days of business are fairly normal, and that the two slowest days only make a portion of days for sales versus regular and busy days"
   ]
  },
  {
   "cell_type": "code",
   "execution_count": null,
   "id": "c5582486",
   "metadata": {},
   "outputs": [],
   "source": [
    "df_ords_prods['order_hour_of_day'].value_counts(dropna = False)"
   ]
  },
  {
   "cell_type": "code",
   "execution_count": null,
   "id": "4203ca4a",
   "metadata": {},
   "outputs": [],
   "source": [
    "result = []\n",
    "\n",
    "for value in df_ords_prods[\"day_of_week\"]:\n",
    "    if value in [1, 0]: # busiest days are (1) Monday and (0) Sunday\n",
    "        result.append('Most Orders') \n",
    "    elif value in [3, 4]:  # least busiesy days are (3) Tuesday and (4) Wednesday\n",
    "        result.append('Fewest Orders')\n",
    "    else:\n",
    "        result.append('Average Orders')\n",
    "# command to create a new row seperating data into named groups"
   ]
  },
  {
   "cell_type": "code",
   "execution_count": null,
   "id": "7109329e",
   "metadata": {},
   "outputs": [],
   "source": [
    "df_ords_prods['busiest_period_of_day'] = result"
   ]
  },
  {
   "cell_type": "code",
   "execution_count": null,
   "id": "d9eb2472",
   "metadata": {},
   "outputs": [],
   "source": [
    "df_ords_prods['busiest_period_of_day'] = df_ords_prods['busiest_period_of_day'].astype('int8')\n",
    "# change dype for easier processing"
   ]
  },
  {
   "cell_type": "code",
   "execution_count": null,
   "id": "7db02a7d",
   "metadata": {
    "scrolled": true
   },
   "outputs": [],
   "source": [
    "df_ords_prods['busiest_period_of_day'] = df_ords_prods['busiest_period_of_day'].map(busiest_period_of_day)\n",
    "# define the dataframe with the condition"
   ]
  },
  {
   "cell_type": "code",
   "execution_count": null,
   "id": "1de1c1cf",
   "metadata": {},
   "outputs": [],
   "source": [
    "df_ords_prods['busiest_period_of_day'].value_counts(dropna = False)\n",
    "# display this row after changes"
   ]
  },
  {
   "cell_type": "markdown",
   "id": "f157cd47",
   "metadata": {},
   "source": [
    "The busiest hours were between 0900 (9) and 1500 [3pm] (15) while the slowest hours were between 0000 [midnight] (0) and 0600 [6am] (6). With this in mind, I wrote a condition defining the busiest and slowest times for orders, marking all other results as average."
   ]
  },
  {
   "cell_type": "markdown",
   "id": "3387e074",
   "metadata": {},
   "source": [
    "# Export Dataframe"
   ]
  },
  {
   "cell_type": "code",
   "execution_count": null,
   "id": "f0c3689a",
   "metadata": {},
   "outputs": [],
   "source": [
    "path = r'C:\\Users\\boudl\\Instacart Basket Analysis'\n",
    "# define path export"
   ]
  },
  {
   "cell_type": "code",
   "execution_count": null,
   "id": "7ba372f0",
   "metadata": {},
   "outputs": [],
   "source": [
    "df_ords_prods.to_pickle(os.path.join(r'C:\\Users\\boudl\\Instacart Basket Analysis\\02 Data\\Prepared Data\\orders_products_merged.pkl'))\n",
    "#command to export dataframe"
   ]
  }
 ],
 "metadata": {
  "kernelspec": {
   "display_name": "Python 3 (ipykernel)",
   "language": "python",
   "name": "python3"
  },
  "language_info": {
   "codemirror_mode": {
    "name": "ipython",
    "version": 3
   },
   "file_extension": ".py",
   "mimetype": "text/x-python",
   "name": "python",
   "nbconvert_exporter": "python",
   "pygments_lexer": "ipython3",
   "version": "3.11.5"
  }
 },
 "nbformat": 4,
 "nbformat_minor": 5
}
