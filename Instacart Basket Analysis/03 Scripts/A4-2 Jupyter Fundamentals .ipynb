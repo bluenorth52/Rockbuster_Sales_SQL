{
 "cells": [
  {
   "cell_type": "markdown",
   "id": "207aa967",
   "metadata": {},
   "source": [
    "# Import Libraries"
   ]
  },
  {
   "cell_type": "code",
   "execution_count": 1,
   "id": "4f2984dc",
   "metadata": {},
   "outputs": [],
   "source": [
    "# Import libraries\n",
    "import pandas as pd\n",
    "import numpy as np\n",
    "import os\n",
    "#importing libraries and operating systems"
   ]
  },
  {
   "cell_type": "markdown",
   "id": "db1bf371",
   "metadata": {},
   "source": [
    "# Working with Python Data Types"
   ]
  },
  {
   "cell_type": "code",
   "execution_count": 2,
   "id": "171a1a6f",
   "metadata": {},
   "outputs": [
    {
     "ename": "SyntaxError",
     "evalue": "invalid syntax (3157573632.py, line 1)",
     "output_type": "error",
     "traceback": [
      "\u001b[1;36m  Cell \u001b[1;32mIn[2], line 1\u001b[1;36m\u001b[0m\n\u001b[1;33m    x=50 y=50\u001b[0m\n\u001b[1;37m         ^\u001b[0m\n\u001b[1;31mSyntaxError\u001b[0m\u001b[1;31m:\u001b[0m invalid syntax\n"
     ]
    }
   ],
   "source": [
    "x=50 y=50"
   ]
  },
  {
   "cell_type": "code",
   "execution_count": 3,
   "id": "5b97c978",
   "metadata": {},
   "outputs": [],
   "source": [
    "x=50"
   ]
  },
  {
   "cell_type": "code",
   "execution_count": 4,
   "id": "42c6ee3b",
   "metadata": {},
   "outputs": [],
   "source": [
    "y=50"
   ]
  },
  {
   "cell_type": "code",
   "execution_count": 5,
   "id": "835d36b9",
   "metadata": {},
   "outputs": [
    {
     "data": {
      "text/plain": [
       "100"
      ]
     },
     "execution_count": 5,
     "metadata": {},
     "output_type": "execute_result"
    }
   ],
   "source": [
    "x+y"
   ]
  },
  {
   "cell_type": "code",
   "execution_count": 6,
   "id": "ab78cfc7",
   "metadata": {},
   "outputs": [],
   "source": [
    "x=125"
   ]
  },
  {
   "cell_type": "code",
   "execution_count": 7,
   "id": "eabaf05e",
   "metadata": {},
   "outputs": [],
   "source": [
    "y=25"
   ]
  },
  {
   "cell_type": "code",
   "execution_count": 8,
   "id": "1f7bbe0f",
   "metadata": {},
   "outputs": [
    {
     "data": {
      "text/plain": [
       "100"
      ]
     },
     "execution_count": 8,
     "metadata": {},
     "output_type": "execute_result"
    }
   ],
   "source": [
    "x-y"
   ]
  },
  {
   "cell_type": "code",
   "execution_count": 9,
   "id": "e2d5c488",
   "metadata": {},
   "outputs": [],
   "source": [
    "x=x-y"
   ]
  },
  {
   "cell_type": "code",
   "execution_count": 10,
   "id": "8a506c3a",
   "metadata": {},
   "outputs": [
    {
     "name": "stdout",
     "output_type": "stream",
     "text": [
      "100\n"
     ]
    }
   ],
   "source": [
    "print(x)"
   ]
  },
  {
   "cell_type": "code",
   "execution_count": 11,
   "id": "5569a484",
   "metadata": {},
   "outputs": [],
   "source": [
    "y=0"
   ]
  },
  {
   "cell_type": "code",
   "execution_count": 12,
   "id": "4cc22440",
   "metadata": {},
   "outputs": [
    {
     "data": {
      "text/plain": [
       "100"
      ]
     },
     "execution_count": 12,
     "metadata": {},
     "output_type": "execute_result"
    }
   ],
   "source": [
    "x+y"
   ]
  },
  {
   "cell_type": "code",
   "execution_count": 13,
   "id": "6eb37c9d",
   "metadata": {},
   "outputs": [],
   "source": [
    "x=25"
   ]
  },
  {
   "cell_type": "code",
   "execution_count": 14,
   "id": "e47dc8c6",
   "metadata": {},
   "outputs": [],
   "source": [
    "y=4"
   ]
  },
  {
   "cell_type": "code",
   "execution_count": 15,
   "id": "19d1a4e0",
   "metadata": {},
   "outputs": [
    {
     "data": {
      "text/plain": [
       "100"
      ]
     },
     "execution_count": 15,
     "metadata": {},
     "output_type": "execute_result"
    }
   ],
   "source": [
    "x*y"
   ]
  },
  {
   "cell_type": "code",
   "execution_count": 16,
   "id": "28031fec",
   "metadata": {},
   "outputs": [],
   "source": [
    "x=200"
   ]
  },
  {
   "cell_type": "code",
   "execution_count": 17,
   "id": "9486043c",
   "metadata": {},
   "outputs": [],
   "source": [
    "y=2"
   ]
  },
  {
   "cell_type": "code",
   "execution_count": 18,
   "id": "3ff82488",
   "metadata": {},
   "outputs": [
    {
     "data": {
      "text/plain": [
       "100.0"
      ]
     },
     "execution_count": 18,
     "metadata": {},
     "output_type": "execute_result"
    }
   ],
   "source": [
    "x/y"
   ]
  },
  {
   "cell_type": "code",
   "execution_count": 19,
   "id": "b780fff9",
   "metadata": {},
   "outputs": [],
   "source": [
    "x=8.61"
   ]
  },
  {
   "cell_type": "code",
   "execution_count": 20,
   "id": "48792194",
   "metadata": {},
   "outputs": [],
   "source": [
    "y=2.79"
   ]
  },
  {
   "cell_type": "code",
   "execution_count": 21,
   "id": "01fb0814",
   "metadata": {},
   "outputs": [
    {
     "data": {
      "text/plain": [
       "3.086021505376344"
      ]
     },
     "execution_count": 21,
     "metadata": {},
     "output_type": "execute_result"
    }
   ],
   "source": [
    "x/y"
   ]
  },
  {
   "cell_type": "code",
   "execution_count": 22,
   "id": "fd82a9a0",
   "metadata": {},
   "outputs": [
    {
     "data": {
      "text/plain": [
       "0.3240418118466899"
      ]
     },
     "execution_count": 22,
     "metadata": {},
     "output_type": "execute_result"
    }
   ],
   "source": [
    "y/x"
   ]
  },
  {
   "cell_type": "code",
   "execution_count": 23,
   "id": "a20c00f1",
   "metadata": {},
   "outputs": [],
   "source": [
    "a= 'welcome.'"
   ]
  },
  {
   "cell_type": "code",
   "execution_count": 24,
   "id": "501ea2d5",
   "metadata": {},
   "outputs": [],
   "source": [
    "b='to.'"
   ]
  },
  {
   "cell_type": "code",
   "execution_count": 25,
   "id": "e3549801",
   "metadata": {},
   "outputs": [],
   "source": [
    "c='data.analysis'"
   ]
  },
  {
   "cell_type": "code",
   "execution_count": 26,
   "id": "26b44e48",
   "metadata": {},
   "outputs": [],
   "source": [
    "d='!'"
   ]
  },
  {
   "cell_type": "code",
   "execution_count": 29,
   "id": "163a4a33",
   "metadata": {},
   "outputs": [
    {
     "data": {
      "text/plain": [
       "'welcometodata analysis!'"
      ]
     },
     "execution_count": 29,
     "metadata": {},
     "output_type": "execute_result"
    }
   ],
   "source": [
    "a+b+c+d"
   ]
  },
  {
   "cell_type": "code",
   "execution_count": 30,
   "id": "6d6f43d4",
   "metadata": {},
   "outputs": [
    {
     "data": {
      "text/plain": [
       "'welcometodata analysis!'"
      ]
     },
     "execution_count": 30,
     "metadata": {},
     "output_type": "execute_result"
    }
   ],
   "source": [
    "a+b+c+d"
   ]
  },
  {
   "cell_type": "code",
   "execution_count": 31,
   "id": "51036005",
   "metadata": {},
   "outputs": [],
   "source": [
    "a= 'welcome to,'"
   ]
  },
  {
   "cell_type": "code",
   "execution_count": 32,
   "id": "5cb3d429",
   "metadata": {},
   "outputs": [],
   "source": [
    "b='data analysis!'"
   ]
  },
  {
   "cell_type": "code",
   "execution_count": 33,
   "id": "1913f0a4",
   "metadata": {},
   "outputs": [
    {
     "data": {
      "text/plain": [
       "'welcome to,data analysis!'"
      ]
     },
     "execution_count": 33,
     "metadata": {},
     "output_type": "execute_result"
    }
   ],
   "source": [
    "a+b"
   ]
  },
  {
   "cell_type": "code",
   "execution_count": 34,
   "id": "ea7bda95",
   "metadata": {},
   "outputs": [],
   "source": [
    "a='python is_'"
   ]
  },
  {
   "cell_type": "code",
   "execution_count": 35,
   "id": "400b708d",
   "metadata": {},
   "outputs": [],
   "source": [
    "b='easier_'"
   ]
  },
  {
   "cell_type": "code",
   "execution_count": 38,
   "id": "e9fc6863",
   "metadata": {},
   "outputs": [],
   "source": [
    "c='to construct'"
   ]
  },
  {
   "cell_type": "code",
   "execution_count": 40,
   "id": "2c600303",
   "metadata": {},
   "outputs": [
    {
     "data": {
      "text/plain": [
       "'python iseasierto construct'"
      ]
     },
     "execution_count": 40,
     "metadata": {},
     "output_type": "execute_result"
    }
   ],
   "source": [
    "a+b+c"
   ]
  },
  {
   "cell_type": "code",
   "execution_count": 41,
   "id": "db9fa86d",
   "metadata": {},
   "outputs": [
    {
     "data": {
      "text/plain": [
       "'python iseasierto construct'"
      ]
     },
     "execution_count": 41,
     "metadata": {},
     "output_type": "execute_result"
    }
   ],
   "source": [
    "a+b+c"
   ]
  },
  {
   "cell_type": "code",
   "execution_count": 42,
   "id": "2e4699fd",
   "metadata": {},
   "outputs": [],
   "source": [
    "a='python cannot,'"
   ]
  },
  {
   "cell_type": "code",
   "execution_count": 43,
   "id": "bd76c263",
   "metadata": {},
   "outputs": [],
   "source": [
    "b='create sentences with,'"
   ]
  },
  {
   "cell_type": "code",
   "execution_count": 44,
   "id": "e9070cf5",
   "metadata": {},
   "outputs": [],
   "source": [
    "c='spaces!'"
   ]
  },
  {
   "cell_type": "code",
   "execution_count": 46,
   "id": "2a3c207c",
   "metadata": {},
   "outputs": [
    {
     "data": {
      "text/plain": [
       "'python cannot,sentences with,spaces!'"
      ]
     },
     "execution_count": 46,
     "metadata": {},
     "output_type": "execute_result"
    }
   ],
   "source": [
    "a+b+c"
   ]
  },
  {
   "cell_type": "code",
   "execution_count": 47,
   "id": "6350047f",
   "metadata": {},
   "outputs": [
    {
     "data": {
      "text/plain": [
       "'python cannot,sentences with,spaces!'"
      ]
     },
     "execution_count": 47,
     "metadata": {},
     "output_type": "execute_result"
    }
   ],
   "source": [
    "a+b+c"
   ]
  },
  {
   "cell_type": "code",
   "execution_count": 48,
   "id": "eef53deb",
   "metadata": {},
   "outputs": [
    {
     "ename": "NameError",
     "evalue": "name 'pudding' is not defined",
     "output_type": "error",
     "traceback": [
      "\u001b[1;31m---------------------------------------------------------------------------\u001b[0m",
      "\u001b[1;31mNameError\u001b[0m                                 Traceback (most recent call last)",
      "Cell \u001b[1;32mIn[48], line 1\u001b[0m\n\u001b[1;32m----> 1\u001b[0m a\u001b[38;5;241m=\u001b[39mpudding\n",
      "\u001b[1;31mNameError\u001b[0m: name 'pudding' is not defined"
     ]
    }
   ],
   "source": [
    "a=pudding"
   ]
  },
  {
   "cell_type": "code",
   "execution_count": 49,
   "id": "1a4d7794",
   "metadata": {},
   "outputs": [],
   "source": [
    "a='pudding'"
   ]
  },
  {
   "cell_type": "code",
   "execution_count": 50,
   "id": "545f2d4f",
   "metadata": {},
   "outputs": [
    {
     "data": {
      "text/plain": [
       "'puddingpuddingpuddingpuddingpuddingpuddingpuddingpuddingpuddingpuddingpuddingpuddingpuddingpuddingpuddingpuddingpuddingpuddingpuddingpuddingpuddingpuddingpuddingpuddingpuddingpuddingpuddingpuddingpuddingpuddingpuddingpuddingpuddingpuddingpuddingpuddingpuddingpuddingpuddingpuddingpuddingpuddingpuddingpuddingpuddingpuddingpuddingpuddingpuddingpuddingpuddingpuddingpuddingpuddingpuddingpuddingpuddingpuddingpuddingpuddingpuddingpuddingpuddingpuddingpuddingpuddingpuddingpuddingpuddingpuddingpuddingpuddingpuddingpuddingpuddingpuddingpuddingpuddingpuddingpuddingpuddingpuddingpuddingpuddingpuddingpuddingpuddingpuddingpuddingpuddingpuddingpuddingpuddingpuddingpuddingpuddingpuddingpuddingpuddingpudding'"
      ]
     },
     "execution_count": 50,
     "metadata": {},
     "output_type": "execute_result"
    }
   ],
   "source": [
    "a*100"
   ]
  },
  {
   "cell_type": "code",
   "execution_count": null,
   "id": "2892ed45",
   "metadata": {},
   "outputs": [],
   "source": []
  }
 ],
 "metadata": {
  "kernelspec": {
   "display_name": "Python 3 (ipykernel)",
   "language": "python",
   "name": "python3"
  },
  "language_info": {
   "codemirror_mode": {
    "name": "ipython",
    "version": 3
   },
   "file_extension": ".py",
   "mimetype": "text/x-python",
   "name": "python",
   "nbconvert_exporter": "python",
   "pygments_lexer": "ipython3",
   "version": "3.11.5"
  }
 },
 "nbformat": 4,
 "nbformat_minor": 5
}
