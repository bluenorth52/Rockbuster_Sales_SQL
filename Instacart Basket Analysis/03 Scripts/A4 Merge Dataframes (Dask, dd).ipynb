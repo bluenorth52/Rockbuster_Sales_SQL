{
 "cells": [
  {
   "cell_type": "markdown",
   "id": "b775c47a",
   "metadata": {},
   "source": [
    "###### Import Libraries"
   ]
  },
  {
   "cell_type": "code",
   "execution_count": 1,
   "id": "94273111",
   "metadata": {},
   "outputs": [],
   "source": [
    "import pandas as pd\n",
    "import numpy as np\n",
    "import os \n",
    "# command to import appropriate libraries"
   ]
  },
  {
   "cell_type": "code",
   "execution_count": 2,
   "id": "262e2bcb",
   "metadata": {},
   "outputs": [
    {
     "name": "stdout",
     "output_type": "stream",
     "text": [
      "Requirement already satisfied: dask in c:\\users\\boudl\\anaconda3\\lib\\site-packages (2023.6.0)\n",
      "Requirement already satisfied: click>=8.0 in c:\\users\\boudl\\anaconda3\\lib\\site-packages (from dask) (8.0.4)\n",
      "Requirement already satisfied: cloudpickle>=1.5.0 in c:\\users\\boudl\\anaconda3\\lib\\site-packages (from dask) (2.2.1)\n",
      "Requirement already satisfied: fsspec>=2021.09.0 in c:\\users\\boudl\\anaconda3\\lib\\site-packages (from dask) (2023.4.0)\n",
      "Requirement already satisfied: packaging>=20.0 in c:\\users\\boudl\\anaconda3\\lib\\site-packages (from dask) (23.1)\n",
      "Requirement already satisfied: partd>=1.2.0 in c:\\users\\boudl\\anaconda3\\lib\\site-packages (from dask) (1.4.0)\n",
      "Requirement already satisfied: pyyaml>=5.3.1 in c:\\users\\boudl\\anaconda3\\lib\\site-packages (from dask) (6.0)\n",
      "Requirement already satisfied: toolz>=0.10.0 in c:\\users\\boudl\\anaconda3\\lib\\site-packages (from dask) (0.12.0)\n",
      "Requirement already satisfied: importlib-metadata>=4.13.0 in c:\\users\\boudl\\anaconda3\\lib\\site-packages (from dask) (6.0.0)\n",
      "Requirement already satisfied: colorama in c:\\users\\boudl\\anaconda3\\lib\\site-packages (from click>=8.0->dask) (0.4.6)\n",
      "Requirement already satisfied: zipp>=0.5 in c:\\users\\boudl\\anaconda3\\lib\\site-packages (from importlib-metadata>=4.13.0->dask) (3.11.0)\n",
      "Requirement already satisfied: locket in c:\\users\\boudl\\anaconda3\\lib\\site-packages (from partd>=1.2.0->dask) (1.0.0)\n"
     ]
    }
   ],
   "source": [
    "!pip install dask\n",
    "import dask.dataframe as dd"
   ]
  },
  {
   "cell_type": "code",
   "execution_count": 3,
   "id": "1ab2133f",
   "metadata": {},
   "outputs": [],
   "source": [
    "df_opc = pd.read_pickle(r'C:\\Users\\boudl\\Instacart Basket Analysis\\02 Data\\Prepared Data\\orders_products_combined.pkl')\n",
    "# command to import orders_products.csv as df_prods"
   ]
  },
  {
   "cell_type": "code",
   "execution_count": 37,
   "id": "f3d42ea0",
   "metadata": {},
   "outputs": [],
   "source": [
    "desired_number_of_partitions = 50"
   ]
  },
  {
   "cell_type": "code",
   "execution_count": 38,
   "id": "06907d0d",
   "metadata": {},
   "outputs": [],
   "source": [
    "ddf_opc = dd.from_pandas(df_opc, npartitions=desired_number_of_partitions)"
   ]
  },
  {
   "cell_type": "code",
   "execution_count": 39,
   "id": "460e14a5",
   "metadata": {},
   "outputs": [],
   "source": [
    "df_prods = dd.read_csv(r'C:\\Users\\boudl\\Instacart Basket Analysis\\02 Data\\Prepared Data\\products_check.csv')\n",
    "# command to import products.csv as df_prods"
   ]
  },
  {
   "cell_type": "code",
   "execution_count": 40,
   "id": "ab44150b",
   "metadata": {},
   "outputs": [],
   "source": [
    "# Convert the Dask dataframe to a Pandas dataframe\n",
    "df_prods_pandas = df_prods.compute()"
   ]
  },
  {
   "cell_type": "code",
   "execution_count": 41,
   "id": "783785f3",
   "metadata": {},
   "outputs": [
    {
     "data": {
      "text/html": [
       "<div><strong>Dask DataFrame Structure:</strong></div>\n",
       "<div>\n",
       "<style scoped>\n",
       "    .dataframe tbody tr th:only-of-type {\n",
       "        vertical-align: middle;\n",
       "    }\n",
       "\n",
       "    .dataframe tbody tr th {\n",
       "        vertical-align: top;\n",
       "    }\n",
       "\n",
       "    .dataframe thead th {\n",
       "        text-align: right;\n",
       "    }\n",
       "</style>\n",
       "<table border=\"1\" class=\"dataframe\">\n",
       "  <thead>\n",
       "    <tr style=\"text-align: right;\">\n",
       "      <th></th>\n",
       "      <th>product_id</th>\n",
       "      <th>product_name</th>\n",
       "      <th>aisle_id</th>\n",
       "      <th>department_id</th>\n",
       "      <th>prices</th>\n",
       "    </tr>\n",
       "    <tr>\n",
       "      <th>npartitions=1</th>\n",
       "      <th></th>\n",
       "      <th></th>\n",
       "      <th></th>\n",
       "      <th></th>\n",
       "      <th></th>\n",
       "    </tr>\n",
       "  </thead>\n",
       "  <tbody>\n",
       "    <tr>\n",
       "      <th></th>\n",
       "      <td>int64</td>\n",
       "      <td>object</td>\n",
       "      <td>int64</td>\n",
       "      <td>int64</td>\n",
       "      <td>float64</td>\n",
       "    </tr>\n",
       "    <tr>\n",
       "      <th></th>\n",
       "      <td>...</td>\n",
       "      <td>...</td>\n",
       "      <td>...</td>\n",
       "      <td>...</td>\n",
       "      <td>...</td>\n",
       "    </tr>\n",
       "  </tbody>\n",
       "</table>\n",
       "</div>\n",
       "<div>Dask Name: drop_by_shallow_copy, 2 graph layers</div>"
      ],
      "text/plain": [
       "Dask DataFrame Structure:\n",
       "              product_id product_name aisle_id department_id   prices\n",
       "npartitions=1                                                        \n",
       "                   int64       object    int64         int64  float64\n",
       "                     ...          ...      ...           ...      ...\n",
       "Dask Name: drop_by_shallow_copy, 2 graph layers"
      ]
     },
     "execution_count": 41,
     "metadata": {},
     "output_type": "execute_result"
    }
   ],
   "source": [
    "df_prods.drop(columns = ['Unnamed: 0'])\n",
    "# command to remove unnmamed: 0 column from dataframe"
   ]
  },
  {
   "cell_type": "code",
   "execution_count": 42,
   "id": "d06add43",
   "metadata": {},
   "outputs": [],
   "source": [
    "df_prods = df_prods.drop(columns = ['Unnamed: 0'])\n",
    "# command to define database without this column"
   ]
  },
  {
   "cell_type": "code",
   "execution_count": 43,
   "id": "3f2546f7",
   "metadata": {},
   "outputs": [
    {
     "data": {
      "text/plain": [
       "(32640698, 11)"
      ]
     },
     "execution_count": 43,
     "metadata": {},
     "output_type": "execute_result"
    }
   ],
   "source": [
    "df_opc.shape\n",
    "#study shape of dataframe"
   ]
  },
  {
   "cell_type": "code",
   "execution_count": 44,
   "id": "04a184e6",
   "metadata": {},
   "outputs": [
    {
     "name": "stdout",
     "output_type": "stream",
     "text": [
      "Number of rows: 49693, Number of columns: 5\n"
     ]
    }
   ],
   "source": [
    "shape = df_prods.shape\n",
    "rows = shape[0].compute()  # compute the number of rows\n",
    "columns = shape[1]  # Number of columns is already known\n",
    "\n",
    "print(f\"Number of rows: {rows}, Number of columns: {columns}\")\n",
    "# study shape of dataframe"
   ]
  },
  {
   "cell_type": "code",
   "execution_count": 45,
   "id": "2393dd9f",
   "metadata": {},
   "outputs": [
    {
     "data": {
      "text/html": [
       "<div>\n",
       "<style scoped>\n",
       "    .dataframe tbody tr th:only-of-type {\n",
       "        vertical-align: middle;\n",
       "    }\n",
       "\n",
       "    .dataframe tbody tr th {\n",
       "        vertical-align: top;\n",
       "    }\n",
       "\n",
       "    .dataframe thead th {\n",
       "        text-align: right;\n",
       "    }\n",
       "</style>\n",
       "<table border=\"1\" class=\"dataframe\">\n",
       "  <thead>\n",
       "    <tr style=\"text-align: right;\">\n",
       "      <th></th>\n",
       "      <th>order_id</th>\n",
       "      <th>user_id</th>\n",
       "      <th>order_number</th>\n",
       "      <th>day_of_week</th>\n",
       "      <th>order_hour_of_day</th>\n",
       "      <th>days_since_prior_order</th>\n",
       "      <th>first_order_flag</th>\n",
       "      <th>product_id</th>\n",
       "      <th>add_to_cart_order</th>\n",
       "      <th>reordered</th>\n",
       "      <th>_merge</th>\n",
       "    </tr>\n",
       "  </thead>\n",
       "  <tbody>\n",
       "    <tr>\n",
       "      <th>0</th>\n",
       "      <td>2539329</td>\n",
       "      <td>1</td>\n",
       "      <td>1</td>\n",
       "      <td>2</td>\n",
       "      <td>8</td>\n",
       "      <td>NaN</td>\n",
       "      <td>True</td>\n",
       "      <td>196.0</td>\n",
       "      <td>1.0</td>\n",
       "      <td>0.0</td>\n",
       "      <td>both</td>\n",
       "    </tr>\n",
       "    <tr>\n",
       "      <th>1</th>\n",
       "      <td>2539329</td>\n",
       "      <td>1</td>\n",
       "      <td>1</td>\n",
       "      <td>2</td>\n",
       "      <td>8</td>\n",
       "      <td>NaN</td>\n",
       "      <td>True</td>\n",
       "      <td>14084.0</td>\n",
       "      <td>2.0</td>\n",
       "      <td>0.0</td>\n",
       "      <td>both</td>\n",
       "    </tr>\n",
       "    <tr>\n",
       "      <th>2</th>\n",
       "      <td>2539329</td>\n",
       "      <td>1</td>\n",
       "      <td>1</td>\n",
       "      <td>2</td>\n",
       "      <td>8</td>\n",
       "      <td>NaN</td>\n",
       "      <td>True</td>\n",
       "      <td>12427.0</td>\n",
       "      <td>3.0</td>\n",
       "      <td>0.0</td>\n",
       "      <td>both</td>\n",
       "    </tr>\n",
       "    <tr>\n",
       "      <th>3</th>\n",
       "      <td>2539329</td>\n",
       "      <td>1</td>\n",
       "      <td>1</td>\n",
       "      <td>2</td>\n",
       "      <td>8</td>\n",
       "      <td>NaN</td>\n",
       "      <td>True</td>\n",
       "      <td>26088.0</td>\n",
       "      <td>4.0</td>\n",
       "      <td>0.0</td>\n",
       "      <td>both</td>\n",
       "    </tr>\n",
       "    <tr>\n",
       "      <th>4</th>\n",
       "      <td>2539329</td>\n",
       "      <td>1</td>\n",
       "      <td>1</td>\n",
       "      <td>2</td>\n",
       "      <td>8</td>\n",
       "      <td>NaN</td>\n",
       "      <td>True</td>\n",
       "      <td>26405.0</td>\n",
       "      <td>5.0</td>\n",
       "      <td>0.0</td>\n",
       "      <td>both</td>\n",
       "    </tr>\n",
       "  </tbody>\n",
       "</table>\n",
       "</div>"
      ],
      "text/plain": [
       "   order_id  user_id  order_number  day_of_week  order_hour_of_day  \\\n",
       "0   2539329        1             1            2                  8   \n",
       "1   2539329        1             1            2                  8   \n",
       "2   2539329        1             1            2                  8   \n",
       "3   2539329        1             1            2                  8   \n",
       "4   2539329        1             1            2                  8   \n",
       "\n",
       "   days_since_prior_order  first_order_flag  product_id  add_to_cart_order  \\\n",
       "0                     NaN              True       196.0                1.0   \n",
       "1                     NaN              True     14084.0                2.0   \n",
       "2                     NaN              True     12427.0                3.0   \n",
       "3                     NaN              True     26088.0                4.0   \n",
       "4                     NaN              True     26405.0                5.0   \n",
       "\n",
       "   reordered _merge  \n",
       "0        0.0   both  \n",
       "1        0.0   both  \n",
       "2        0.0   both  \n",
       "3        0.0   both  \n",
       "4        0.0   both  "
      ]
     },
     "execution_count": 45,
     "metadata": {},
     "output_type": "execute_result"
    }
   ],
   "source": [
    "df_opc.head()\n",
    "# study first five rows of dataframe"
   ]
  },
  {
   "cell_type": "code",
   "execution_count": 46,
   "id": "d0fc8226",
   "metadata": {},
   "outputs": [
    {
     "data": {
      "text/html": [
       "<div>\n",
       "<style scoped>\n",
       "    .dataframe tbody tr th:only-of-type {\n",
       "        vertical-align: middle;\n",
       "    }\n",
       "\n",
       "    .dataframe tbody tr th {\n",
       "        vertical-align: top;\n",
       "    }\n",
       "\n",
       "    .dataframe thead th {\n",
       "        text-align: right;\n",
       "    }\n",
       "</style>\n",
       "<table border=\"1\" class=\"dataframe\">\n",
       "  <thead>\n",
       "    <tr style=\"text-align: right;\">\n",
       "      <th></th>\n",
       "      <th>product_id</th>\n",
       "      <th>product_name</th>\n",
       "      <th>aisle_id</th>\n",
       "      <th>department_id</th>\n",
       "      <th>prices</th>\n",
       "    </tr>\n",
       "  </thead>\n",
       "  <tbody>\n",
       "    <tr>\n",
       "      <th>0</th>\n",
       "      <td>1</td>\n",
       "      <td>Chocolate Sandwich Cookies</td>\n",
       "      <td>61</td>\n",
       "      <td>19</td>\n",
       "      <td>5.8</td>\n",
       "    </tr>\n",
       "    <tr>\n",
       "      <th>1</th>\n",
       "      <td>2</td>\n",
       "      <td>All-Seasons Salt</td>\n",
       "      <td>104</td>\n",
       "      <td>13</td>\n",
       "      <td>9.3</td>\n",
       "    </tr>\n",
       "    <tr>\n",
       "      <th>2</th>\n",
       "      <td>3</td>\n",
       "      <td>Robust Golden Unsweetened Oolong Tea</td>\n",
       "      <td>94</td>\n",
       "      <td>7</td>\n",
       "      <td>4.5</td>\n",
       "    </tr>\n",
       "    <tr>\n",
       "      <th>3</th>\n",
       "      <td>4</td>\n",
       "      <td>Smart Ones Classic Favorites Mini Rigatoni Wit...</td>\n",
       "      <td>38</td>\n",
       "      <td>1</td>\n",
       "      <td>10.5</td>\n",
       "    </tr>\n",
       "    <tr>\n",
       "      <th>4</th>\n",
       "      <td>5</td>\n",
       "      <td>Green Chile Anytime Sauce</td>\n",
       "      <td>5</td>\n",
       "      <td>13</td>\n",
       "      <td>4.3</td>\n",
       "    </tr>\n",
       "  </tbody>\n",
       "</table>\n",
       "</div>"
      ],
      "text/plain": [
       "   product_id                                       product_name  aisle_id  \\\n",
       "0           1                         Chocolate Sandwich Cookies        61   \n",
       "1           2                                   All-Seasons Salt       104   \n",
       "2           3               Robust Golden Unsweetened Oolong Tea        94   \n",
       "3           4  Smart Ones Classic Favorites Mini Rigatoni Wit...        38   \n",
       "4           5                          Green Chile Anytime Sauce         5   \n",
       "\n",
       "   department_id  prices  \n",
       "0             19     5.8  \n",
       "1             13     9.3  \n",
       "2              7     4.5  \n",
       "3              1    10.5  \n",
       "4             13     4.3  "
      ]
     },
     "execution_count": 46,
     "metadata": {},
     "output_type": "execute_result"
    }
   ],
   "source": [
    "df_prods.head()\n",
    "# study first first rows of dataframe"
   ]
  },
  {
   "cell_type": "code",
   "execution_count": 47,
   "id": "88d33a03",
   "metadata": {},
   "outputs": [],
   "source": [
    "df_orders_products_check = dd.merge(df_opc, df_prods, on='product_id', indicator='merge_indicator')\n",
    "# new command to merge dataframes, since df_opc is already a merged dataframe"
   ]
  },
  {
   "cell_type": "code",
   "execution_count": 48,
   "id": "d8a63814",
   "metadata": {},
   "outputs": [
    {
     "name": "stdout",
     "output_type": "stream",
     "text": [
      "<class 'dask.dataframe.core.DataFrame'>\n",
      "Columns: 16 entries, order_id to merge_indicator\n",
      "dtypes: category(2), object(1), bool(1), float64(5), int64(7)"
     ]
    }
   ],
   "source": [
    "df_orders_products_check.info()\n",
    "# study changes to new dataframe"
   ]
  },
  {
   "cell_type": "markdown",
   "id": "a2695770",
   "metadata": {},
   "source": [
    "Please note, only a .info command can be run due to the size of the dataframe and the limits of not only machine, but dask & Python."
   ]
  },
  {
   "cell_type": "code",
   "execution_count": 49,
   "id": "624856e2",
   "metadata": {},
   "outputs": [
    {
     "data": {
      "text/plain": [
       "Index(['order_id', 'user_id', 'order_number', 'day_of_week',\n",
       "       'order_hour_of_day', 'days_since_prior_order', 'first_order_flag',\n",
       "       'product_id', 'add_to_cart_order', 'reordered', '_merge',\n",
       "       'product_name', 'aisle_id', 'department_id', 'prices',\n",
       "       'merge_indicator'],\n",
       "      dtype='object')"
      ]
     },
     "execution_count": 49,
     "metadata": {},
     "output_type": "execute_result"
    }
   ],
   "source": [
    "df_orders_products_check.columns\n",
    "#command to see dataframe columns"
   ]
  },
  {
   "cell_type": "code",
   "execution_count": 50,
   "id": "eaee6edf",
   "metadata": {},
   "outputs": [],
   "source": [
    "df_orders_products_check = df_orders_products_check.drop(columns=['_merge', 'merge_indicator'])"
   ]
  },
  {
   "cell_type": "code",
   "execution_count": 58,
   "id": "68d978ae",
   "metadata": {},
   "outputs": [
    {
     "data": {
      "text/plain": [
       "Index(['order_id', 'user_id', 'order_number', 'day_of_week',\n",
       "       'order_hour_of_day', 'days_since_prior_order', 'first_order_flag',\n",
       "       'product_id', 'add_to_cart_order', 'reordered', 'product_name',\n",
       "       'aisle_id', 'department_id', 'prices'],\n",
       "      dtype='object')"
      ]
     },
     "execution_count": 58,
     "metadata": {},
     "output_type": "execute_result"
    }
   ],
   "source": [
    "df_orders_products_check.columns\n",
    "#command to see dataframe columns"
   ]
  },
  {
   "cell_type": "code",
   "execution_count": 66,
   "id": "00557045",
   "metadata": {},
   "outputs": [
    {
     "data": {
      "text/plain": [
       "['C:\\\\Users\\\\boudl\\\\Instacart Basket Analysis\\\\02 Data\\\\Prepared Data\\\\orders_products_merged-0.csv']"
      ]
     },
     "execution_count": 66,
     "metadata": {},
     "output_type": "execute_result"
    }
   ],
   "source": [
    "df_orders_products_check.to_csv(r'C:\\Users\\boudl\\Instacart Basket Analysis\\02 Data\\Prepared Data\\orders_products_merged-*.csv', index=False)"
   ]
  },
  {
   "cell_type": "code",
   "execution_count": 67,
   "id": "c5c932ae",
   "metadata": {},
   "outputs": [],
   "source": [
    "import dask.dataframe as dd"
   ]
  },
  {
   "cell_type": "code",
   "execution_count": 68,
   "id": "26834031",
   "metadata": {},
   "outputs": [],
   "source": [
    "df = dd.read_csv(r'C:\\Users\\boudl\\Instacart Basket Analysis\\02 Data\\Prepared Data\\orders_products_merged-*.csv')"
   ]
  },
  {
   "cell_type": "code",
   "execution_count": 69,
   "id": "4007a7a9",
   "metadata": {},
   "outputs": [
    {
     "data": {
      "text/plain": [
       "Index(['order_id', 'user_id', 'order_number', 'day_of_week',\n",
       "       'order_hour_of_day', 'days_since_prior_order', 'first_order_flag',\n",
       "       'product_id', 'add_to_cart_order', 'reordered', 'product_name',\n",
       "       'aisle_id', 'department_id', 'prices'],\n",
       "      dtype='object')"
      ]
     },
     "execution_count": 69,
     "metadata": {},
     "output_type": "execute_result"
    }
   ],
   "source": [
    "df_orders_products_check.columns\n",
    "#command to see dataframe columns"
   ]
  },
  {
   "cell_type": "code",
   "execution_count": null,
   "id": "fb9301c3",
   "metadata": {},
   "outputs": [],
   "source": []
  }
 ],
 "metadata": {
  "kernelspec": {
   "display_name": "Python 3 (ipykernel)",
   "language": "python",
   "name": "python3"
  },
  "language_info": {
   "codemirror_mode": {
    "name": "ipython",
    "version": 3
   },
   "file_extension": ".py",
   "mimetype": "text/x-python",
   "name": "python",
   "nbconvert_exporter": "python",
   "pygments_lexer": "ipython3",
   "version": "3.11.5"
  }
 },
 "nbformat": 4,
 "nbformat_minor": 5
}
